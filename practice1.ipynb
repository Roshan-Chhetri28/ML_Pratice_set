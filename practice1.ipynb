{
 "cells": [
  {
   "cell_type": "code",
   "execution_count": 1,
   "id": "08dcee43-e7ec-4079-a572-68be0c5427f4",
   "metadata": {},
   "outputs": [],
   "source": [
    "import pandas as pd\n",
    "\n",
    "train = pd.read_csv('dataset/train.csv')\n",
    "test = pd.read_csv('dataset/test.csv')\n",
    "sample = pd.read_csv('dataset/sample_submission.csv')"
   ]
  },
  {
   "cell_type": "code",
   "execution_count": 2,
   "id": "e3e294c4-d050-49ac-9223-588e08511dd4",
   "metadata": {},
   "outputs": [
    {
     "name": "stdout",
     "output_type": "stream",
     "text": [
      "<class 'pandas.core.frame.DataFrame'>\n",
      "RangeIndex: 6368 entries, 0 to 6367\n",
      "Data columns (total 15 columns):\n",
      " #   Column            Non-Null Count  Dtype  \n",
      "---  ------            --------------  -----  \n",
      " 0   Product_id        6368 non-null   object \n",
      " 1   Stall_no          6363 non-null   float64\n",
      " 2   instock_date      6368 non-null   object \n",
      " 3   Market_Category   6368 non-null   int64  \n",
      " 4   Customer_name     6157 non-null   object \n",
      " 5   Loyalty_customer  6368 non-null   object \n",
      " 6   Product_Category  6368 non-null   object \n",
      " 7   Grade             6368 non-null   int64  \n",
      " 8   Demand            6368 non-null   int64  \n",
      " 9   Discount_avail    6330 non-null   float64\n",
      " 10  charges_1         6170 non-null   float64\n",
      " 11  charges_2 (%)     6163 non-null   float64\n",
      " 12  Minimum_price     6330 non-null   float64\n",
      " 13  Maximum_price     6025 non-null   float64\n",
      " 14  Selling_Price     6327 non-null   float64\n",
      "dtypes: float64(7), int64(3), object(5)\n",
      "memory usage: 746.4+ KB\n"
     ]
    }
   ],
   "source": [
    "train.info()"
   ]
  },
  {
   "cell_type": "code",
   "execution_count": 3,
   "id": "3f9ca02b-30eb-407e-8c59-e90fd1dada3f",
   "metadata": {},
   "outputs": [
    {
     "name": "stdout",
     "output_type": "stream",
     "text": [
      "<class 'pandas.core.frame.DataFrame'>\n",
      "RangeIndex: 3430 entries, 0 to 3429\n",
      "Data columns (total 14 columns):\n",
      " #   Column            Non-Null Count  Dtype  \n",
      "---  ------            --------------  -----  \n",
      " 0   Product_id        3430 non-null   object \n",
      " 1   Stall_no          3429 non-null   float64\n",
      " 2   instock_date      3430 non-null   object \n",
      " 3   Market_Category   3430 non-null   int64  \n",
      " 4   Customer_name     3377 non-null   object \n",
      " 5   Loyalty_customer  3430 non-null   object \n",
      " 6   Product_Category  3430 non-null   object \n",
      " 7   Grade             3430 non-null   int64  \n",
      " 8   Demand            3430 non-null   int64  \n",
      " 9   Discount_avail    3430 non-null   int64  \n",
      " 10  charges_1         3394 non-null   float64\n",
      " 11  charges_2 (%)     3425 non-null   float64\n",
      " 12  Minimum_price     3416 non-null   float64\n",
      " 13  Maximum_price     3430 non-null   int64  \n",
      "dtypes: float64(4), int64(5), object(5)\n",
      "memory usage: 375.3+ KB\n"
     ]
    }
   ],
   "source": [
    "test.info()"
   ]
  },
  {
   "cell_type": "code",
   "execution_count": 4,
   "id": "8fcf51c7-030c-4c72-9ad3-89a427899432",
   "metadata": {},
   "outputs": [
    {
     "data": {
      "text/html": [
       "<div>\n",
       "<style scoped>\n",
       "    .dataframe tbody tr th:only-of-type {\n",
       "        vertical-align: middle;\n",
       "    }\n",
       "\n",
       "    .dataframe tbody tr th {\n",
       "        vertical-align: top;\n",
       "    }\n",
       "\n",
       "    .dataframe thead th {\n",
       "        text-align: right;\n",
       "    }\n",
       "</style>\n",
       "<table border=\"1\" class=\"dataframe\">\n",
       "  <thead>\n",
       "    <tr style=\"text-align: right;\">\n",
       "      <th></th>\n",
       "      <th>Stall_no</th>\n",
       "      <th>Market_Category</th>\n",
       "      <th>Product_Category</th>\n",
       "      <th>Grade</th>\n",
       "      <th>Demand</th>\n",
       "      <th>Discount_avail</th>\n",
       "      <th>charges_1</th>\n",
       "      <th>charges_2 (%)</th>\n",
       "      <th>Minimum_price</th>\n",
       "      <th>Maximum_price</th>\n",
       "      <th>Selling_Price</th>\n",
       "    </tr>\n",
       "  </thead>\n",
       "  <tbody>\n",
       "    <tr>\n",
       "      <th>0</th>\n",
       "      <td>37.0</td>\n",
       "      <td>2</td>\n",
       "      <td>Fashion</td>\n",
       "      <td>1</td>\n",
       "      <td>68</td>\n",
       "      <td>0.0</td>\n",
       "      <td>376.0</td>\n",
       "      <td>11.0</td>\n",
       "      <td>2983.0</td>\n",
       "      <td>4713.0</td>\n",
       "      <td>4185.947700</td>\n",
       "    </tr>\n",
       "    <tr>\n",
       "      <th>1</th>\n",
       "      <td>38.0</td>\n",
       "      <td>24</td>\n",
       "      <td>Fashion</td>\n",
       "      <td>0</td>\n",
       "      <td>51</td>\n",
       "      <td>0.0</td>\n",
       "      <td>397.0</td>\n",
       "      <td>12.0</td>\n",
       "      <td>7495.0</td>\n",
       "      <td>10352.0</td>\n",
       "      <td>9271.490256</td>\n",
       "    </tr>\n",
       "    <tr>\n",
       "      <th>2</th>\n",
       "      <td>9.0</td>\n",
       "      <td>447</td>\n",
       "      <td>Child_care</td>\n",
       "      <td>0</td>\n",
       "      <td>10</td>\n",
       "      <td>0.0</td>\n",
       "      <td>250.0</td>\n",
       "      <td>9.0</td>\n",
       "      <td>5752.0</td>\n",
       "      <td>7309.0</td>\n",
       "      <td>6785.701362</td>\n",
       "    </tr>\n",
       "    <tr>\n",
       "      <th>3</th>\n",
       "      <td>50.0</td>\n",
       "      <td>23</td>\n",
       "      <td>Educational</td>\n",
       "      <td>2</td>\n",
       "      <td>48</td>\n",
       "      <td>0.0</td>\n",
       "      <td>144.0</td>\n",
       "      <td>13.0</td>\n",
       "      <td>5090.0</td>\n",
       "      <td>20814.0</td>\n",
       "      <td>13028.917824</td>\n",
       "    </tr>\n",
       "    <tr>\n",
       "      <th>4</th>\n",
       "      <td>7.0</td>\n",
       "      <td>63</td>\n",
       "      <td>Repair</td>\n",
       "      <td>1</td>\n",
       "      <td>35</td>\n",
       "      <td>1.0</td>\n",
       "      <td>211.0</td>\n",
       "      <td>4.0</td>\n",
       "      <td>2430.0</td>\n",
       "      <td>9261.0</td>\n",
       "      <td>906.553935</td>\n",
       "    </tr>\n",
       "    <tr>\n",
       "      <th>...</th>\n",
       "      <td>...</td>\n",
       "      <td>...</td>\n",
       "      <td>...</td>\n",
       "      <td>...</td>\n",
       "      <td>...</td>\n",
       "      <td>...</td>\n",
       "      <td>...</td>\n",
       "      <td>...</td>\n",
       "      <td>...</td>\n",
       "      <td>...</td>\n",
       "      <td>...</td>\n",
       "    </tr>\n",
       "    <tr>\n",
       "      <th>6363</th>\n",
       "      <td>17.0</td>\n",
       "      <td>24</td>\n",
       "      <td>Technology</td>\n",
       "      <td>0</td>\n",
       "      <td>47</td>\n",
       "      <td>0.0</td>\n",
       "      <td>614.0</td>\n",
       "      <td>10.0</td>\n",
       "      <td>8174.0</td>\n",
       "      <td>11266.0</td>\n",
       "      <td>10277.520192</td>\n",
       "    </tr>\n",
       "    <tr>\n",
       "      <th>6364</th>\n",
       "      <td>21.0</td>\n",
       "      <td>55</td>\n",
       "      <td>Child_care</td>\n",
       "      <td>0</td>\n",
       "      <td>35</td>\n",
       "      <td>0.0</td>\n",
       "      <td>269.0</td>\n",
       "      <td>5.0</td>\n",
       "      <td>3564.0</td>\n",
       "      <td>4920.0</td>\n",
       "      <td>4501.837200</td>\n",
       "    </tr>\n",
       "    <tr>\n",
       "      <th>6365</th>\n",
       "      <td>36.0</td>\n",
       "      <td>358</td>\n",
       "      <td>Repair</td>\n",
       "      <td>3</td>\n",
       "      <td>29</td>\n",
       "      <td>0.0</td>\n",
       "      <td>283.0</td>\n",
       "      <td>3.0</td>\n",
       "      <td>5303.0</td>\n",
       "      <td>14614.0</td>\n",
       "      <td>10218.878775</td>\n",
       "    </tr>\n",
       "    <tr>\n",
       "      <th>6366</th>\n",
       "      <td>27.0</td>\n",
       "      <td>452</td>\n",
       "      <td>Repair</td>\n",
       "      <td>0</td>\n",
       "      <td>8</td>\n",
       "      <td>0.0</td>\n",
       "      <td>267.0</td>\n",
       "      <td>3.0</td>\n",
       "      <td>4334.0</td>\n",
       "      <td>5849.0</td>\n",
       "      <td>5359.493997</td>\n",
       "    </tr>\n",
       "    <tr>\n",
       "      <th>6367</th>\n",
       "      <td>11.0</td>\n",
       "      <td>58</td>\n",
       "      <td>Technology</td>\n",
       "      <td>0</td>\n",
       "      <td>94</td>\n",
       "      <td>0.0</td>\n",
       "      <td>614.0</td>\n",
       "      <td>7.0</td>\n",
       "      <td>3975.0</td>\n",
       "      <td>5383.0</td>\n",
       "      <td>5220.013568</td>\n",
       "    </tr>\n",
       "  </tbody>\n",
       "</table>\n",
       "<p>6368 rows × 11 columns</p>\n",
       "</div>"
      ],
      "text/plain": [
       "      Stall_no  Market_Category Product_Category  Grade  Demand  \\\n",
       "0         37.0                2          Fashion      1      68   \n",
       "1         38.0               24          Fashion      0      51   \n",
       "2          9.0              447       Child_care      0      10   \n",
       "3         50.0               23      Educational      2      48   \n",
       "4          7.0               63           Repair      1      35   \n",
       "...        ...              ...              ...    ...     ...   \n",
       "6363      17.0               24       Technology      0      47   \n",
       "6364      21.0               55       Child_care      0      35   \n",
       "6365      36.0              358           Repair      3      29   \n",
       "6366      27.0              452           Repair      0       8   \n",
       "6367      11.0               58       Technology      0      94   \n",
       "\n",
       "      Discount_avail  charges_1  charges_2 (%)  Minimum_price  Maximum_price  \\\n",
       "0                0.0      376.0           11.0         2983.0         4713.0   \n",
       "1                0.0      397.0           12.0         7495.0        10352.0   \n",
       "2                0.0      250.0            9.0         5752.0         7309.0   \n",
       "3                0.0      144.0           13.0         5090.0        20814.0   \n",
       "4                1.0      211.0            4.0         2430.0         9261.0   \n",
       "...              ...        ...            ...            ...            ...   \n",
       "6363             0.0      614.0           10.0         8174.0        11266.0   \n",
       "6364             0.0      269.0            5.0         3564.0         4920.0   \n",
       "6365             0.0      283.0            3.0         5303.0        14614.0   \n",
       "6366             0.0      267.0            3.0         4334.0         5849.0   \n",
       "6367             0.0      614.0            7.0         3975.0         5383.0   \n",
       "\n",
       "      Selling_Price  \n",
       "0       4185.947700  \n",
       "1       9271.490256  \n",
       "2       6785.701362  \n",
       "3      13028.917824  \n",
       "4        906.553935  \n",
       "...             ...  \n",
       "6363   10277.520192  \n",
       "6364    4501.837200  \n",
       "6365   10218.878775  \n",
       "6366    5359.493997  \n",
       "6367    5220.013568  \n",
       "\n",
       "[6368 rows x 11 columns]"
      ]
     },
     "execution_count": 4,
     "metadata": {},
     "output_type": "execute_result"
    }
   ],
   "source": [
    "toremove = ['Product_id', 'Customer_name', 'Loyalty_customer', 'instock_date']\n",
    "train.drop(columns = toremove, inplace = True)\n",
    "train"
   ]
  },
  {
   "cell_type": "code",
   "execution_count": 5,
   "id": "a5c1f194-17e1-46dc-af78-cf1a50c69509",
   "metadata": {},
   "outputs": [
    {
     "data": {
      "text/plain": [
       "0       0\n",
       "1       0\n",
       "2       1\n",
       "3       2\n",
       "4       3\n",
       "       ..\n",
       "6363    4\n",
       "6364    1\n",
       "6365    3\n",
       "6366    3\n",
       "6367    4\n",
       "Name: Product_Category, Length: 6368, dtype: int64"
      ]
     },
     "execution_count": 5,
     "metadata": {},
     "output_type": "execute_result"
    }
   ],
   "source": [
    "categories = train['Product_Category'].unique().astype(list)\n",
    "train['Product_Category'] = pd.factorize(train['Product_Category'])[0]\n",
    "train['Product_Category']"
   ]
  },
  {
   "cell_type": "code",
   "execution_count": 6,
   "id": "7386a881-8cee-4218-acf5-2bdb3192a3e3",
   "metadata": {},
   "outputs": [],
   "source": [
    "corr = train.corr()"
   ]
  },
  {
   "cell_type": "code",
   "execution_count": 7,
   "id": "272932c4-7a2f-4b6f-a994-d6c6e2089aff",
   "metadata": {},
   "outputs": [],
   "source": [
    "import seaborn as sns\n",
    "import matplotlib.pyplot as plt"
   ]
  },
  {
   "cell_type": "code",
   "execution_count": 8,
   "id": "2d894cd3-3abf-4e01-9d1c-515fcbfcd4c3",
   "metadata": {},
   "outputs": [
    {
     "data": {
      "image/png": "[encoded data removed]",
      "text/plain": [
       "<Figure size 1000x800 with 2 Axes>"
      ]
     },
     "metadata": {},
     "output_type": "display_data"
    }
   ],
   "source": [
    "plt.figure(figsize=(10, 8))\n",
    "sns.heatmap(corr, annot = True, cmap='coolwarm', vmin=-1, vmax=1)\n",
    "plt.show()"
   ]
  },
  {
   "cell_type": "code",
   "execution_count": 9,
   "id": "8df02f0d-7a9d-4380-ad9b-eaf918d7436a",
   "metadata": {},
   "outputs": [],
   "source": [
    "import numpy as np\n",
    "train.replace(\"?\", np.nan, inplace = True)\n"
   ]
  },
  {
   "cell_type": "code",
   "execution_count": 10,
   "id": "e79f4505-40d9-4387-8b64-463f2a6fd8bf",
   "metadata": {},
   "outputs": [
    {
     "data": {
      "text/plain": [
       "Stall_no              5\n",
       "Market_Category       0\n",
       "Product_Category      0\n",
       "Grade                 0\n",
       "Demand                0\n",
       "Discount_avail       38\n",
       "charges_1           198\n",
       "charges_2 (%)       205\n",
       "Minimum_price        38\n",
       "Maximum_price       343\n",
       "Selling_Price        41\n",
       "dtype: int64"
      ]
     },
     "execution_count": 10,
     "metadata": {},
     "output_type": "execute_result"
    }
   ],
   "source": [
    "missing_data = train.isnull().sum()\n",
    "missing_data"
   ]
  },
  {
   "cell_type": "code",
   "execution_count": 11,
   "id": "e699d927-36ec-48ef-9471-32714b41034a",
   "metadata": {},
   "outputs": [],
   "source": [
    "train.dropna(subset=[\"Stall_no\", \"Discount_avail\"], axis=0, inplace=True)\n",
    "train.reset_index(drop=True, inplace=True)"
   ]
  },
  {
   "cell_type": "code",
   "execution_count": 12,
   "id": "1f5392bf-1ed5-4a58-bfb6-6e7372292bc6",
   "metadata": {},
   "outputs": [
    {
     "data": {
      "text/html": [
       "<div>\n",
       "<style scoped>\n",
       "    .dataframe tbody tr th:only-of-type {\n",
       "        vertical-align: middle;\n",
       "    }\n",
       "\n",
       "    .dataframe tbody tr th {\n",
       "        vertical-align: top;\n",
       "    }\n",
       "\n",
       "    .dataframe thead th {\n",
       "        text-align: right;\n",
       "    }\n",
       "</style>\n",
       "<table border=\"1\" class=\"dataframe\">\n",
       "  <thead>\n",
       "    <tr style=\"text-align: right;\">\n",
       "      <th></th>\n",
       "      <th>Stall_no</th>\n",
       "      <th>Market_Category</th>\n",
       "      <th>Product_Category</th>\n",
       "      <th>Grade</th>\n",
       "      <th>Demand</th>\n",
       "      <th>Discount_avail</th>\n",
       "      <th>charges_1</th>\n",
       "      <th>charges_2 (%)</th>\n",
       "      <th>Minimum_price</th>\n",
       "      <th>Maximum_price</th>\n",
       "      <th>Selling_Price</th>\n",
       "    </tr>\n",
       "  </thead>\n",
       "  <tbody>\n",
       "    <tr>\n",
       "      <th>count</th>\n",
       "      <td>6325.000000</td>\n",
       "      <td>6325.000000</td>\n",
       "      <td>6325.000000</td>\n",
       "      <td>6325.000000</td>\n",
       "      <td>6325.000000</td>\n",
       "      <td>6325.000000</td>\n",
       "      <td>6129.000000</td>\n",
       "      <td>6121.000000</td>\n",
       "      <td>6287.000000</td>\n",
       "      <td>5984.000000</td>\n",
       "      <td>6285.000000</td>\n",
       "    </tr>\n",
       "    <tr>\n",
       "      <th>mean</th>\n",
       "      <td>25.315099</td>\n",
       "      <td>199.164743</td>\n",
       "      <td>4.521739</td>\n",
       "      <td>0.643794</td>\n",
       "      <td>50.980395</td>\n",
       "      <td>0.140553</td>\n",
       "      <td>264.393702</td>\n",
       "      <td>10.140337</td>\n",
       "      <td>3534.903611</td>\n",
       "      <td>6441.410929</td>\n",
       "      <td>4568.454916</td>\n",
       "    </tr>\n",
       "    <tr>\n",
       "      <th>std</th>\n",
       "      <td>14.329010</td>\n",
       "      <td>170.277630</td>\n",
       "      <td>2.859405</td>\n",
       "      <td>1.025333</td>\n",
       "      <td>29.075584</td>\n",
       "      <td>0.347588</td>\n",
       "      <td>124.601362</td>\n",
       "      <td>4.320086</td>\n",
       "      <td>2196.817253</td>\n",
       "      <td>3722.794855</td>\n",
       "      <td>2983.256472</td>\n",
       "    </tr>\n",
       "    <tr>\n",
       "      <th>min</th>\n",
       "      <td>1.000000</td>\n",
       "      <td>0.000000</td>\n",
       "      <td>0.000000</td>\n",
       "      <td>0.000000</td>\n",
       "      <td>1.000000</td>\n",
       "      <td>0.000000</td>\n",
       "      <td>100.000000</td>\n",
       "      <td>1.000000</td>\n",
       "      <td>1.000000</td>\n",
       "      <td>404.000000</td>\n",
       "      <td>-6062.470000</td>\n",
       "    </tr>\n",
       "    <tr>\n",
       "      <th>25%</th>\n",
       "      <td>13.000000</td>\n",
       "      <td>55.000000</td>\n",
       "      <td>2.000000</td>\n",
       "      <td>0.000000</td>\n",
       "      <td>26.000000</td>\n",
       "      <td>0.000000</td>\n",
       "      <td>163.000000</td>\n",
       "      <td>7.000000</td>\n",
       "      <td>1879.500000</td>\n",
       "      <td>3920.500000</td>\n",
       "      <td>2451.581440</td>\n",
       "    </tr>\n",
       "    <tr>\n",
       "      <th>50%</th>\n",
       "      <td>25.000000</td>\n",
       "      <td>131.000000</td>\n",
       "      <td>5.000000</td>\n",
       "      <td>0.000000</td>\n",
       "      <td>51.000000</td>\n",
       "      <td>0.000000</td>\n",
       "      <td>252.000000</td>\n",
       "      <td>10.000000</td>\n",
       "      <td>3162.000000</td>\n",
       "      <td>5644.000000</td>\n",
       "      <td>4213.292160</td>\n",
       "    </tr>\n",
       "    <tr>\n",
       "      <th>75%</th>\n",
       "      <td>37.000000</td>\n",
       "      <td>403.000000</td>\n",
       "      <td>7.000000</td>\n",
       "      <td>2.000000</td>\n",
       "      <td>76.000000</td>\n",
       "      <td>0.000000</td>\n",
       "      <td>314.000000</td>\n",
       "      <td>14.000000</td>\n",
       "      <td>4709.000000</td>\n",
       "      <td>8138.500000</td>\n",
       "      <td>6173.422596</td>\n",
       "    </tr>\n",
       "    <tr>\n",
       "      <th>max</th>\n",
       "      <td>50.000000</td>\n",
       "      <td>471.000000</td>\n",
       "      <td>9.000000</td>\n",
       "      <td>3.000000</td>\n",
       "      <td>100.000000</td>\n",
       "      <td>1.000000</td>\n",
       "      <td>649.000000</td>\n",
       "      <td>17.000000</td>\n",
       "      <td>17580.000000</td>\n",
       "      <td>58812.000000</td>\n",
       "      <td>22638.325941</td>\n",
       "    </tr>\n",
       "  </tbody>\n",
       "</table>\n",
       "</div>"
      ],
      "text/plain": [
       "          Stall_no  Market_Category  Product_Category        Grade  \\\n",
       "count  6325.000000      6325.000000       6325.000000  6325.000000   \n",
       "mean     25.315099       199.164743          4.521739     0.643794   \n",
       "std      14.329010       170.277630          2.859405     1.025333   \n",
       "min       1.000000         0.000000          0.000000     0.000000   \n",
       "25%      13.000000        55.000000          2.000000     0.000000   \n",
       "50%      25.000000       131.000000          5.000000     0.000000   \n",
       "75%      37.000000       403.000000          7.000000     2.000000   \n",
       "max      50.000000       471.000000          9.000000     3.000000   \n",
       "\n",
       "            Demand  Discount_avail    charges_1  charges_2 (%)  Minimum_price  \\\n",
       "count  6325.000000     6325.000000  6129.000000    6121.000000    6287.000000   \n",
       "mean     50.980395        0.140553   264.393702      10.140337    3534.903611   \n",
       "std      29.075584        0.347588   124.601362       4.320086    2196.817253   \n",
       "min       1.000000        0.000000   100.000000       1.000000       1.000000   \n",
       "25%      26.000000        0.000000   163.000000       7.000000    1879.500000   \n",
       "50%      51.000000        0.000000   252.000000      10.000000    3162.000000   \n",
       "75%      76.000000        0.000000   314.000000      14.000000    4709.000000   \n",
       "max     100.000000        1.000000   649.000000      17.000000   17580.000000   \n",
       "\n",
       "       Maximum_price  Selling_Price  \n",
       "count    5984.000000    6285.000000  \n",
       "mean     6441.410929    4568.454916  \n",
       "std      3722.794855    2983.256472  \n",
       "min       404.000000   -6062.470000  \n",
       "25%      3920.500000    2451.581440  \n",
       "50%      5644.000000    4213.292160  \n",
       "75%      8138.500000    6173.422596  \n",
       "max     58812.000000   22638.325941  "
      ]
     },
     "execution_count": 12,
     "metadata": {},
     "output_type": "execute_result"
    }
   ],
   "source": [
    "train.describe()"
   ]
  },
  {
   "cell_type": "code",
   "execution_count": 13,
   "id": "988e685c-cd57-4e4a-8bf7-b4db62bb99b7",
   "metadata": {},
   "outputs": [
    {
     "name": "stderr",
     "output_type": "stream",
     "text": [
      "C:\\Users\\Rosha\\AppData\\Local\\Temp\\ipykernel_4344\\2209095564.py:2: FutureWarning: A value is trying to be set on a copy of a DataFrame or Series through chained assignment using an inplace method.\n",
      "The behavior will change in pandas 3.0. This inplace method will never work because the intermediate object on which we are setting values always behaves as a copy.\n",
      "\n",
      "For example, when doing 'df[col].method(value, inplace=True)', try using 'df.method({col: value}, inplace=True)' or df[col] = df[col].method(value) instead, to perform the operation inplace on the original object.\n",
      "\n",
      "\n",
      "  train['charges_1'].replace(np.nan, avg_charge1, inplace = True)\n"
     ]
    }
   ],
   "source": [
    "avg_charge1 = train['charges_1'].astype('float').mean(axis=0)\n",
    "train['charges_1'].replace(np.nan, avg_charge1, inplace = True)"
   ]
  },
  {
   "cell_type": "code",
   "execution_count": 14,
   "id": "fe74e240-bd94-4ff8-b96c-8841e82bab2b",
   "metadata": {},
   "outputs": [
    {
     "name": "stderr",
     "output_type": "stream",
     "text": [
      "C:\\Users\\Rosha\\AppData\\Local\\Temp\\ipykernel_4344\\1757409325.py:2: FutureWarning: A value is trying to be set on a copy of a DataFrame or Series through chained assignment using an inplace method.\n",
      "The behavior will change in pandas 3.0. This inplace method will never work because the intermediate object on which we are setting values always behaves as a copy.\n",
      "\n",
      "For example, when doing 'df[col].method(value, inplace=True)', try using 'df.method({col: value}, inplace=True)' or df[col] = df[col].method(value) instead, to perform the operation inplace on the original object.\n",
      "\n",
      "\n",
      "  train['charges_2 (%)'].replace(np.nan,  avg_charge2, inplace = True)\n"
     ]
    }
   ],
   "source": [
    "avg_charge2 = train['charges_2 (%)'].astype('float').mean(axis =0)\n",
    "train['charges_2 (%)'].replace(np.nan,  avg_charge2, inplace = True)"
   ]
  },
  {
   "cell_type": "code",
   "execution_count": 15,
   "id": "2f955950-3ef1-4a98-9a4b-648f9bced46c",
   "metadata": {},
   "outputs": [
    {
     "name": "stderr",
     "output_type": "stream",
     "text": [
      "C:\\Users\\Rosha\\AppData\\Local\\Temp\\ipykernel_4344\\981190333.py:2: FutureWarning: A value is trying to be set on a copy of a DataFrame or Series through chained assignment using an inplace method.\n",
      "The behavior will change in pandas 3.0. This inplace method will never work because the intermediate object on which we are setting values always behaves as a copy.\n",
      "\n",
      "For example, when doing 'df[col].method(value, inplace=True)', try using 'df.method({col: value}, inplace=True)' or df[col] = df[col].method(value) instead, to perform the operation inplace on the original object.\n",
      "\n",
      "\n",
      "  train['Maximum_price'].replace(np.nan, avg_maximumprice, inplace = True)\n"
     ]
    }
   ],
   "source": [
    "avg_maximumprice = train['Maximum_price'].astype('float').mean(axis = 0)\n",
    "train['Maximum_price'].replace(np.nan, avg_maximumprice, inplace = True)"
   ]
  },
  {
   "cell_type": "code",
   "execution_count": 16,
   "id": "845be545-59b8-4550-8e02-878335d799bb",
   "metadata": {},
   "outputs": [
    {
     "name": "stderr",
     "output_type": "stream",
     "text": [
      "C:\\Users\\Rosha\\AppData\\Local\\Temp\\ipykernel_4344\\2915180175.py:2: FutureWarning: A value is trying to be set on a copy of a DataFrame or Series through chained assignment using an inplace method.\n",
      "The behavior will change in pandas 3.0. This inplace method will never work because the intermediate object on which we are setting values always behaves as a copy.\n",
      "\n",
      "For example, when doing 'df[col].method(value, inplace=True)', try using 'df.method({col: value}, inplace=True)' or df[col] = df[col].method(value) instead, to perform the operation inplace on the original object.\n",
      "\n",
      "\n",
      "  train['Minimum_price'].replace(np.nan, avg_minprice, inplace = True)\n"
     ]
    }
   ],
   "source": [
    "avg_minprice = train['Minimum_price'].astype('float').mean(axis = 0)\n",
    "train['Minimum_price'].replace(np.nan, avg_minprice, inplace = True)"
   ]
  },
  {
   "cell_type": "code",
   "execution_count": 17,
   "id": "0e8859fd-a6b7-40ae-a044-43f8487844cc",
   "metadata": {},
   "outputs": [
    {
     "name": "stderr",
     "output_type": "stream",
     "text": [
      "C:\\Users\\Rosha\\AppData\\Local\\Temp\\ipykernel_4344\\1273958184.py:2: FutureWarning: A value is trying to be set on a copy of a DataFrame or Series through chained assignment using an inplace method.\n",
      "The behavior will change in pandas 3.0. This inplace method will never work because the intermediate object on which we are setting values always behaves as a copy.\n",
      "\n",
      "For example, when doing 'df[col].method(value, inplace=True)', try using 'df.method({col: value}, inplace=True)' or df[col] = df[col].method(value) instead, to perform the operation inplace on the original object.\n",
      "\n",
      "\n",
      "  train['Selling_Price'].replace(np.nan, avg_y, inplace = True)\n"
     ]
    }
   ],
   "source": [
    "avg_y = train['Selling_Price'].astype(float).mean(axis = 0)\n",
    "train['Selling_Price'].replace(np.nan, avg_y, inplace = True)"
   ]
  },
  {
   "cell_type": "code",
   "execution_count": 18,
   "id": "35fd5ca2-a427-4748-8405-a2ba28b031b1",
   "metadata": {},
   "outputs": [
    {
     "data": {
      "text/html": [
       "<div>\n",
       "<style scoped>\n",
       "    .dataframe tbody tr th:only-of-type {\n",
       "        vertical-align: middle;\n",
       "    }\n",
       "\n",
       "    .dataframe tbody tr th {\n",
       "        vertical-align: top;\n",
       "    }\n",
       "\n",
       "    .dataframe thead th {\n",
       "        text-align: right;\n",
       "    }\n",
       "</style>\n",
       "<table border=\"1\" class=\"dataframe\">\n",
       "  <thead>\n",
       "    <tr style=\"text-align: right;\">\n",
       "      <th></th>\n",
       "      <th>Stall_no</th>\n",
       "      <th>Market_Category</th>\n",
       "      <th>Product_Category</th>\n",
       "      <th>Grade</th>\n",
       "      <th>Demand</th>\n",
       "      <th>Discount_avail</th>\n",
       "      <th>charges_1</th>\n",
       "      <th>charges_2 (%)</th>\n",
       "      <th>Minimum_price</th>\n",
       "      <th>Maximum_price</th>\n",
       "      <th>Selling_Price</th>\n",
       "    </tr>\n",
       "  </thead>\n",
       "  <tbody>\n",
       "    <tr>\n",
       "      <th>0</th>\n",
       "      <td>37.0</td>\n",
       "      <td>2</td>\n",
       "      <td>0</td>\n",
       "      <td>1</td>\n",
       "      <td>68</td>\n",
       "      <td>0.0</td>\n",
       "      <td>376.0</td>\n",
       "      <td>11.0</td>\n",
       "      <td>2983.0</td>\n",
       "      <td>4713.0</td>\n",
       "      <td>4185.947700</td>\n",
       "    </tr>\n",
       "    <tr>\n",
       "      <th>1</th>\n",
       "      <td>38.0</td>\n",
       "      <td>24</td>\n",
       "      <td>0</td>\n",
       "      <td>0</td>\n",
       "      <td>51</td>\n",
       "      <td>0.0</td>\n",
       "      <td>397.0</td>\n",
       "      <td>12.0</td>\n",
       "      <td>7495.0</td>\n",
       "      <td>10352.0</td>\n",
       "      <td>9271.490256</td>\n",
       "    </tr>\n",
       "    <tr>\n",
       "      <th>2</th>\n",
       "      <td>9.0</td>\n",
       "      <td>447</td>\n",
       "      <td>1</td>\n",
       "      <td>0</td>\n",
       "      <td>10</td>\n",
       "      <td>0.0</td>\n",
       "      <td>250.0</td>\n",
       "      <td>9.0</td>\n",
       "      <td>5752.0</td>\n",
       "      <td>7309.0</td>\n",
       "      <td>6785.701362</td>\n",
       "    </tr>\n",
       "    <tr>\n",
       "      <th>3</th>\n",
       "      <td>50.0</td>\n",
       "      <td>23</td>\n",
       "      <td>2</td>\n",
       "      <td>2</td>\n",
       "      <td>48</td>\n",
       "      <td>0.0</td>\n",
       "      <td>144.0</td>\n",
       "      <td>13.0</td>\n",
       "      <td>5090.0</td>\n",
       "      <td>20814.0</td>\n",
       "      <td>13028.917824</td>\n",
       "    </tr>\n",
       "    <tr>\n",
       "      <th>4</th>\n",
       "      <td>7.0</td>\n",
       "      <td>63</td>\n",
       "      <td>3</td>\n",
       "      <td>1</td>\n",
       "      <td>35</td>\n",
       "      <td>1.0</td>\n",
       "      <td>211.0</td>\n",
       "      <td>4.0</td>\n",
       "      <td>2430.0</td>\n",
       "      <td>9261.0</td>\n",
       "      <td>906.553935</td>\n",
       "    </tr>\n",
       "    <tr>\n",
       "      <th>...</th>\n",
       "      <td>...</td>\n",
       "      <td>...</td>\n",
       "      <td>...</td>\n",
       "      <td>...</td>\n",
       "      <td>...</td>\n",
       "      <td>...</td>\n",
       "      <td>...</td>\n",
       "      <td>...</td>\n",
       "      <td>...</td>\n",
       "      <td>...</td>\n",
       "      <td>...</td>\n",
       "    </tr>\n",
       "    <tr>\n",
       "      <th>6320</th>\n",
       "      <td>17.0</td>\n",
       "      <td>24</td>\n",
       "      <td>4</td>\n",
       "      <td>0</td>\n",
       "      <td>47</td>\n",
       "      <td>0.0</td>\n",
       "      <td>614.0</td>\n",
       "      <td>10.0</td>\n",
       "      <td>8174.0</td>\n",
       "      <td>11266.0</td>\n",
       "      <td>10277.520192</td>\n",
       "    </tr>\n",
       "    <tr>\n",
       "      <th>6321</th>\n",
       "      <td>21.0</td>\n",
       "      <td>55</td>\n",
       "      <td>1</td>\n",
       "      <td>0</td>\n",
       "      <td>35</td>\n",
       "      <td>0.0</td>\n",
       "      <td>269.0</td>\n",
       "      <td>5.0</td>\n",
       "      <td>3564.0</td>\n",
       "      <td>4920.0</td>\n",
       "      <td>4501.837200</td>\n",
       "    </tr>\n",
       "    <tr>\n",
       "      <th>6322</th>\n",
       "      <td>36.0</td>\n",
       "      <td>358</td>\n",
       "      <td>3</td>\n",
       "      <td>3</td>\n",
       "      <td>29</td>\n",
       "      <td>0.0</td>\n",
       "      <td>283.0</td>\n",
       "      <td>3.0</td>\n",
       "      <td>5303.0</td>\n",
       "      <td>14614.0</td>\n",
       "      <td>10218.878775</td>\n",
       "    </tr>\n",
       "    <tr>\n",
       "      <th>6323</th>\n",
       "      <td>27.0</td>\n",
       "      <td>452</td>\n",
       "      <td>3</td>\n",
       "      <td>0</td>\n",
       "      <td>8</td>\n",
       "      <td>0.0</td>\n",
       "      <td>267.0</td>\n",
       "      <td>3.0</td>\n",
       "      <td>4334.0</td>\n",
       "      <td>5849.0</td>\n",
       "      <td>5359.493997</td>\n",
       "    </tr>\n",
       "    <tr>\n",
       "      <th>6324</th>\n",
       "      <td>11.0</td>\n",
       "      <td>58</td>\n",
       "      <td>4</td>\n",
       "      <td>0</td>\n",
       "      <td>94</td>\n",
       "      <td>0.0</td>\n",
       "      <td>614.0</td>\n",
       "      <td>7.0</td>\n",
       "      <td>3975.0</td>\n",
       "      <td>5383.0</td>\n",
       "      <td>5220.013568</td>\n",
       "    </tr>\n",
       "  </tbody>\n",
       "</table>\n",
       "<p>6325 rows × 11 columns</p>\n",
       "</div>"
      ],
      "text/plain": [
       "      Stall_no  Market_Category  Product_Category  Grade  Demand  \\\n",
       "0         37.0                2                 0      1      68   \n",
       "1         38.0               24                 0      0      51   \n",
       "2          9.0              447                 1      0      10   \n",
       "3         50.0               23                 2      2      48   \n",
       "4          7.0               63                 3      1      35   \n",
       "...        ...              ...               ...    ...     ...   \n",
       "6320      17.0               24                 4      0      47   \n",
       "6321      21.0               55                 1      0      35   \n",
       "6322      36.0              358                 3      3      29   \n",
       "6323      27.0              452                 3      0       8   \n",
       "6324      11.0               58                 4      0      94   \n",
       "\n",
       "      Discount_avail  charges_1  charges_2 (%)  Minimum_price  Maximum_price  \\\n",
       "0                0.0      376.0           11.0         2983.0         4713.0   \n",
       "1                0.0      397.0           12.0         7495.0        10352.0   \n",
       "2                0.0      250.0            9.0         5752.0         7309.0   \n",
       "3                0.0      144.0           13.0         5090.0        20814.0   \n",
       "4                1.0      211.0            4.0         2430.0         9261.0   \n",
       "...              ...        ...            ...            ...            ...   \n",
       "6320             0.0      614.0           10.0         8174.0        11266.0   \n",
       "6321             0.0      269.0            5.0         3564.0         4920.0   \n",
       "6322             0.0      283.0            3.0         5303.0        14614.0   \n",
       "6323             0.0      267.0            3.0         4334.0         5849.0   \n",
       "6324             0.0      614.0            7.0         3975.0         5383.0   \n",
       "\n",
       "      Selling_Price  \n",
       "0       4185.947700  \n",
       "1       9271.490256  \n",
       "2       6785.701362  \n",
       "3      13028.917824  \n",
       "4        906.553935  \n",
       "...             ...  \n",
       "6320   10277.520192  \n",
       "6321    4501.837200  \n",
       "6322   10218.878775  \n",
       "6323    5359.493997  \n",
       "6324    5220.013568  \n",
       "\n",
       "[6325 rows x 11 columns]"
      ]
     },
     "execution_count": 18,
     "metadata": {},
     "output_type": "execute_result"
    }
   ],
   "source": [
    "y = train['Selling_Price']\n",
    "x = train.drop(columns = 'Selling_Price')\n",
    "train"
   ]
  },
  {
   "cell_type": "code",
   "execution_count": 19,
   "id": "974d1938-b9bb-4f86-9aa9-2fca0a3f752b",
   "metadata": {},
   "outputs": [
    {
     "data": {
      "text/html": [
       "<div>\n",
       "<style scoped>\n",
       "    .dataframe tbody tr th:only-of-type {\n",
       "        vertical-align: middle;\n",
       "    }\n",
       "\n",
       "    .dataframe tbody tr th {\n",
       "        vertical-align: top;\n",
       "    }\n",
       "\n",
       "    .dataframe thead th {\n",
       "        text-align: right;\n",
       "    }\n",
       "</style>\n",
       "<table border=\"1\" class=\"dataframe\">\n",
       "  <thead>\n",
       "    <tr style=\"text-align: right;\">\n",
       "      <th></th>\n",
       "      <th>Stall_no</th>\n",
       "      <th>Market_Category</th>\n",
       "      <th>Product_Category</th>\n",
       "      <th>Grade</th>\n",
       "      <th>Demand</th>\n",
       "      <th>Discount_avail</th>\n",
       "      <th>charges_1</th>\n",
       "      <th>charges_2 (%)</th>\n",
       "      <th>Minimum_price</th>\n",
       "      <th>Maximum_price</th>\n",
       "      <th>Selling_Price</th>\n",
       "    </tr>\n",
       "  </thead>\n",
       "  <tbody>\n",
       "    <tr>\n",
       "      <th>0</th>\n",
       "      <td>37.0</td>\n",
       "      <td>2</td>\n",
       "      <td>0</td>\n",
       "      <td>1</td>\n",
       "      <td>68</td>\n",
       "      <td>0.0</td>\n",
       "      <td>376.0</td>\n",
       "      <td>11.0</td>\n",
       "      <td>2983.0</td>\n",
       "      <td>4713.0</td>\n",
       "      <td>4185.947700</td>\n",
       "    </tr>\n",
       "    <tr>\n",
       "      <th>1</th>\n",
       "      <td>38.0</td>\n",
       "      <td>24</td>\n",
       "      <td>0</td>\n",
       "      <td>0</td>\n",
       "      <td>51</td>\n",
       "      <td>0.0</td>\n",
       "      <td>397.0</td>\n",
       "      <td>12.0</td>\n",
       "      <td>7495.0</td>\n",
       "      <td>10352.0</td>\n",
       "      <td>9271.490256</td>\n",
       "    </tr>\n",
       "    <tr>\n",
       "      <th>2</th>\n",
       "      <td>9.0</td>\n",
       "      <td>447</td>\n",
       "      <td>1</td>\n",
       "      <td>0</td>\n",
       "      <td>10</td>\n",
       "      <td>0.0</td>\n",
       "      <td>250.0</td>\n",
       "      <td>9.0</td>\n",
       "      <td>5752.0</td>\n",
       "      <td>7309.0</td>\n",
       "      <td>6785.701362</td>\n",
       "    </tr>\n",
       "    <tr>\n",
       "      <th>3</th>\n",
       "      <td>50.0</td>\n",
       "      <td>23</td>\n",
       "      <td>2</td>\n",
       "      <td>2</td>\n",
       "      <td>48</td>\n",
       "      <td>0.0</td>\n",
       "      <td>144.0</td>\n",
       "      <td>13.0</td>\n",
       "      <td>5090.0</td>\n",
       "      <td>20814.0</td>\n",
       "      <td>13028.917824</td>\n",
       "    </tr>\n",
       "    <tr>\n",
       "      <th>4</th>\n",
       "      <td>7.0</td>\n",
       "      <td>63</td>\n",
       "      <td>3</td>\n",
       "      <td>1</td>\n",
       "      <td>35</td>\n",
       "      <td>1.0</td>\n",
       "      <td>211.0</td>\n",
       "      <td>4.0</td>\n",
       "      <td>2430.0</td>\n",
       "      <td>9261.0</td>\n",
       "      <td>906.553935</td>\n",
       "    </tr>\n",
       "    <tr>\n",
       "      <th>...</th>\n",
       "      <td>...</td>\n",
       "      <td>...</td>\n",
       "      <td>...</td>\n",
       "      <td>...</td>\n",
       "      <td>...</td>\n",
       "      <td>...</td>\n",
       "      <td>...</td>\n",
       "      <td>...</td>\n",
       "      <td>...</td>\n",
       "      <td>...</td>\n",
       "      <td>...</td>\n",
       "    </tr>\n",
       "    <tr>\n",
       "      <th>6320</th>\n",
       "      <td>17.0</td>\n",
       "      <td>24</td>\n",
       "      <td>4</td>\n",
       "      <td>0</td>\n",
       "      <td>47</td>\n",
       "      <td>0.0</td>\n",
       "      <td>614.0</td>\n",
       "      <td>10.0</td>\n",
       "      <td>8174.0</td>\n",
       "      <td>11266.0</td>\n",
       "      <td>10277.520192</td>\n",
       "    </tr>\n",
       "    <tr>\n",
       "      <th>6321</th>\n",
       "      <td>21.0</td>\n",
       "      <td>55</td>\n",
       "      <td>1</td>\n",
       "      <td>0</td>\n",
       "      <td>35</td>\n",
       "      <td>0.0</td>\n",
       "      <td>269.0</td>\n",
       "      <td>5.0</td>\n",
       "      <td>3564.0</td>\n",
       "      <td>4920.0</td>\n",
       "      <td>4501.837200</td>\n",
       "    </tr>\n",
       "    <tr>\n",
       "      <th>6322</th>\n",
       "      <td>36.0</td>\n",
       "      <td>358</td>\n",
       "      <td>3</td>\n",
       "      <td>3</td>\n",
       "      <td>29</td>\n",
       "      <td>0.0</td>\n",
       "      <td>283.0</td>\n",
       "      <td>3.0</td>\n",
       "      <td>5303.0</td>\n",
       "      <td>14614.0</td>\n",
       "      <td>10218.878775</td>\n",
       "    </tr>\n",
       "    <tr>\n",
       "      <th>6323</th>\n",
       "      <td>27.0</td>\n",
       "      <td>452</td>\n",
       "      <td>3</td>\n",
       "      <td>0</td>\n",
       "      <td>8</td>\n",
       "      <td>0.0</td>\n",
       "      <td>267.0</td>\n",
       "      <td>3.0</td>\n",
       "      <td>4334.0</td>\n",
       "      <td>5849.0</td>\n",
       "      <td>5359.493997</td>\n",
       "    </tr>\n",
       "    <tr>\n",
       "      <th>6324</th>\n",
       "      <td>11.0</td>\n",
       "      <td>58</td>\n",
       "      <td>4</td>\n",
       "      <td>0</td>\n",
       "      <td>94</td>\n",
       "      <td>0.0</td>\n",
       "      <td>614.0</td>\n",
       "      <td>7.0</td>\n",
       "      <td>3975.0</td>\n",
       "      <td>5383.0</td>\n",
       "      <td>5220.013568</td>\n",
       "    </tr>\n",
       "  </tbody>\n",
       "</table>\n",
       "<p>6325 rows × 11 columns</p>\n",
       "</div>"
      ],
      "text/plain": [
       "      Stall_no  Market_Category  Product_Category  Grade  Demand  \\\n",
       "0         37.0                2                 0      1      68   \n",
       "1         38.0               24                 0      0      51   \n",
       "2          9.0              447                 1      0      10   \n",
       "3         50.0               23                 2      2      48   \n",
       "4          7.0               63                 3      1      35   \n",
       "...        ...              ...               ...    ...     ...   \n",
       "6320      17.0               24                 4      0      47   \n",
       "6321      21.0               55                 1      0      35   \n",
       "6322      36.0              358                 3      3      29   \n",
       "6323      27.0              452                 3      0       8   \n",
       "6324      11.0               58                 4      0      94   \n",
       "\n",
       "      Discount_avail  charges_1  charges_2 (%)  Minimum_price  Maximum_price  \\\n",
       "0                0.0      376.0           11.0         2983.0         4713.0   \n",
       "1                0.0      397.0           12.0         7495.0        10352.0   \n",
       "2                0.0      250.0            9.0         5752.0         7309.0   \n",
       "3                0.0      144.0           13.0         5090.0        20814.0   \n",
       "4                1.0      211.0            4.0         2430.0         9261.0   \n",
       "...              ...        ...            ...            ...            ...   \n",
       "6320             0.0      614.0           10.0         8174.0        11266.0   \n",
       "6321             0.0      269.0            5.0         3564.0         4920.0   \n",
       "6322             0.0      283.0            3.0         5303.0        14614.0   \n",
       "6323             0.0      267.0            3.0         4334.0         5849.0   \n",
       "6324             0.0      614.0            7.0         3975.0         5383.0   \n",
       "\n",
       "      Selling_Price  \n",
       "0       4185.947700  \n",
       "1       9271.490256  \n",
       "2       6785.701362  \n",
       "3      13028.917824  \n",
       "4        906.553935  \n",
       "...             ...  \n",
       "6320   10277.520192  \n",
       "6321    4501.837200  \n",
       "6322   10218.878775  \n",
       "6323    5359.493997  \n",
       "6324    5220.013568  \n",
       "\n",
       "[6325 rows x 11 columns]"
      ]
     },
     "execution_count": 19,
     "metadata": {},
     "output_type": "execute_result"
    }
   ],
   "source": [
    "y = train['Selling_Price']\n",
    "x = train.drop(columns = 'Selling_Price')\n",
    "train"
   ]
  },
  {
   "cell_type": "code",
   "execution_count": 20,
   "id": "f030785a-fb7b-4685-8018-01c2febeb65a",
   "metadata": {},
   "outputs": [],
   "source": [
    "from sklearn.model_selection import train_test_split"
   ]
  },
  {
   "cell_type": "code",
   "execution_count": 21,
   "id": "38259bfa-76c3-477f-91a8-1fddad1e5427",
   "metadata": {},
   "outputs": [],
   "source": [
    "x_train, x_test, y_train, y_test = train_test_split(x, y, test_size = 0.33, random_state = 42 )"
   ]
  },
  {
   "cell_type": "code",
   "execution_count": 22,
   "id": "dbd4ad6d-2ebf-4833-8472-9db570ed0465",
   "metadata": {},
   "outputs": [],
   "source": [
    "from sklearn.linear_model import LinearRegression\n",
    "lr = LinearRegression().fit(x_train, y_train)"
   ]
  },
  {
   "cell_type": "code",
   "execution_count": 23,
   "id": "d1de7405-f0ed-4d8f-813f-76b9713a481c",
   "metadata": {},
   "outputs": [],
   "source": [
    "y_hat = lr.predict(x_test)"
   ]
  },
  {
   "cell_type": "code",
   "execution_count": 24,
   "id": "53b78798-6b1b-4167-b5c0-09e08599ec87",
   "metadata": {},
   "outputs": [
    {
     "data": {
      "text/plain": [
       "array([6287.29065211, 4407.90848719, 5235.73292484, ..., 3743.39412446,\n",
       "       1734.70379057, 3888.43103295])"
      ]
     },
     "execution_count": 24,
     "metadata": {},
     "output_type": "execute_result"
    }
   ],
   "source": [
    "y_hat"
   ]
  },
  {
   "cell_type": "code",
   "execution_count": 25,
   "id": "e7c305c5-9530-412c-8727-19601d65d129",
   "metadata": {},
   "outputs": [
    {
     "data": {
      "text/plain": [
       "661.0614159102597"
      ]
     },
     "execution_count": 25,
     "metadata": {},
     "output_type": "execute_result"
    }
   ],
   "source": [
    "lr.intercept_"
   ]
  },
  {
   "cell_type": "code",
   "execution_count": 26,
   "id": "fa65ce85-d14a-420e-ab60-44192637900f",
   "metadata": {},
   "outputs": [
    {
     "data": {
      "text/plain": [
       "array([-1.04130276e+00,  4.73951321e-02, -5.63993965e+00,  5.99073277e+01,\n",
       "        5.06771114e-02, -4.37156624e+03,  7.58786514e-01,  3.40384581e-01,\n",
       "        4.90209327e-01,  3.99152577e-01])"
      ]
     },
     "execution_count": 26,
     "metadata": {},
     "output_type": "execute_result"
    }
   ],
   "source": [
    "lr.coef_"
   ]
  },
  {
   "cell_type": "code",
   "execution_count": 27,
   "id": "60833ded-210a-4e2f-84e0-445eec4a6b62",
   "metadata": {},
   "outputs": [
    {
     "data": {
      "text/plain": [
       "0.9034986563163673"
      ]
     },
     "execution_count": 27,
     "metadata": {},
     "output_type": "execute_result"
    }
   ],
   "source": [
    "lr.score(x_test, y_test)"
   ]
  },
  {
   "cell_type": "code",
   "execution_count": 28,
   "id": "5ec8169c-0ba2-44a4-86c4-b480dc345612",
   "metadata": {},
   "outputs": [],
   "source": [
    "test = pd.read_csv('dataset/test.csv')\n",
    "product_id = test.Product_id"
   ]
  },
  {
   "cell_type": "code",
   "execution_count": 29,
   "id": "7ce5faec-cf6f-45b8-877c-43658a9a1ec8",
   "metadata": {},
   "outputs": [],
   "source": [
    "test.drop(columns = toremove, inplace = True)"
   ]
  },
  {
   "cell_type": "code",
   "execution_count": 30,
   "id": "d90ea086-4e7e-499b-93bf-43c3236e0fb4",
   "metadata": {},
   "outputs": [
    {
     "data": {
      "text/plain": [
       "Stall_no             1\n",
       "Market_Category      0\n",
       "Product_Category     0\n",
       "Grade                0\n",
       "Demand               0\n",
       "Discount_avail       0\n",
       "charges_1           36\n",
       "charges_2 (%)        5\n",
       "Minimum_price       14\n",
       "Maximum_price        0\n",
       "dtype: int64"
      ]
     },
     "execution_count": 30,
     "metadata": {},
     "output_type": "execute_result"
    }
   ],
   "source": [
    "test.isnull().sum()"
   ]
  },
  {
   "cell_type": "code",
   "execution_count": 31,
   "id": "fb003ef0-782a-49ef-9949-f62471db2950",
   "metadata": {},
   "outputs": [
    {
     "name": "stderr",
     "output_type": "stream",
     "text": [
      "C:\\Users\\Rosha\\AppData\\Local\\Temp\\ipykernel_4344\\2457097426.py:4: FutureWarning: A value is trying to be set on a copy of a DataFrame or Series through chained assignment using an inplace method.\n",
      "The behavior will change in pandas 3.0. This inplace method will never work because the intermediate object on which we are setting values always behaves as a copy.\n",
      "\n",
      "For example, when doing 'df[col].method(value, inplace=True)', try using 'df.method({col: value}, inplace=True)' or df[col] = df[col].method(value) instead, to perform the operation inplace on the original object.\n",
      "\n",
      "\n",
      "  test['charges_1'].replace(np.nan, avg_charge1, inplace = True)\n",
      "C:\\Users\\Rosha\\AppData\\Local\\Temp\\ipykernel_4344\\2457097426.py:5: FutureWarning: A value is trying to be set on a copy of a DataFrame or Series through chained assignment using an inplace method.\n",
      "The behavior will change in pandas 3.0. This inplace method will never work because the intermediate object on which we are setting values always behaves as a copy.\n",
      "\n",
      "For example, when doing 'df[col].method(value, inplace=True)', try using 'df.method({col: value}, inplace=True)' or df[col] = df[col].method(value) instead, to perform the operation inplace on the original object.\n",
      "\n",
      "\n",
      "  test['charges_2 (%)'].replace(np.nan, avg_charge2, inplace = True)\n"
     ]
    }
   ],
   "source": [
    "avg_charge1 = test['charges_1'].astype(float).mean(axis = 0)\n",
    "avg_charge2 = test['charges_2 (%)'].astype(float).mean(axis = 0)\n",
    "\n",
    "test['charges_1'].replace(np.nan, avg_charge1, inplace = True)\n",
    "test['charges_2 (%)'].replace(np.nan, avg_charge2, inplace = True)"
   ]
  },
  {
   "cell_type": "code",
   "execution_count": 32,
   "id": "3b5447d4-99bf-48d9-9c8a-44aaabb11d12",
   "metadata": {},
   "outputs": [
    {
     "data": {
      "text/plain": [
       "0       False\n",
       "1       False\n",
       "2       False\n",
       "3       False\n",
       "4       False\n",
       "        ...  \n",
       "3425    False\n",
       "3426    False\n",
       "3427    False\n",
       "3428    False\n",
       "3429    False\n",
       "Name: Stall_no, Length: 3430, dtype: bool"
      ]
     },
     "execution_count": 32,
     "metadata": {},
     "output_type": "execute_result"
    }
   ],
   "source": [
    "t = test['Stall_no'].isnull()\n",
    "t"
   ]
  },
  {
   "cell_type": "code",
   "execution_count": 33,
   "id": "fe92e3c4-13c2-4bae-8c1f-d66fb3c403a3",
   "metadata": {},
   "outputs": [
    {
     "name": "stderr",
     "output_type": "stream",
     "text": [
      "C:\\Users\\Rosha\\AppData\\Local\\Temp\\ipykernel_4344\\3334182770.py:3: FutureWarning: ChainedAssignmentError: behaviour will change in pandas 3.0!\n",
      "You are setting values through chained assignment. Currently this works in certain cases, but when using Copy-on-Write (which will become the default behaviour in pandas 3.0) this will never work to update the original DataFrame or Series, because the intermediate object on which we are setting values will behave as a copy.\n",
      "A typical example is when you are setting values in a column of a DataFrame, like:\n",
      "\n",
      "df[\"col\"][row_indexer] = value\n",
      "\n",
      "Use `df.loc[row_indexer, \"col\"] = values` instead, to perform the assignment in a single step and ensure this keeps updating the original `df`.\n",
      "\n",
      "See the caveats in the documentation: https://pandas.pydata.org/pandas-docs/stable/user_guide/indexing.html#returning-a-view-versus-a-copy\n",
      "\n",
      "  test.Stall_no[i] = test.Stall_no[i-1]+1\n",
      "C:\\Users\\Rosha\\AppData\\Local\\Temp\\ipykernel_4344\\3334182770.py:3: SettingWithCopyWarning: \n",
      "A value is trying to be set on a copy of a slice from a DataFrame\n",
      "\n",
      "See the caveats in the documentation: https://pandas.pydata.org/pandas-docs/stable/user_guide/indexing.html#returning-a-view-versus-a-copy\n",
      "  test.Stall_no[i] = test.Stall_no[i-1]+1\n"
     ]
    },
    {
     "data": {
      "text/plain": [
       "Stall_no             0\n",
       "Market_Category      0\n",
       "Product_Category     0\n",
       "Grade                0\n",
       "Demand               0\n",
       "Discount_avail       0\n",
       "charges_1            0\n",
       "charges_2 (%)        0\n",
       "Minimum_price       14\n",
       "Maximum_price        0\n",
       "dtype: int64"
      ]
     },
     "execution_count": 33,
     "metadata": {},
     "output_type": "execute_result"
    }
   ],
   "source": [
    "for i in range(len(test['Stall_no'])):\n",
    "    if t[i] == True:\n",
    "       test.Stall_no[i] = test.Stall_no[i-1]+1\n",
    "test.isnull().sum()"
   ]
  },
  {
   "cell_type": "code",
   "execution_count": 34,
   "id": "4fc739dd-6942-4d3b-85ae-93c1e34737c5",
   "metadata": {},
   "outputs": [],
   "source": [
    "avg_minimum_price = test['Minimum_price'].astype(float).mean(axis = 0)\n",
    "avg_maximum_price = test['Maximum_price'].astype(float).mean(axis = 0)"
   ]
  },
  {
   "cell_type": "code",
   "execution_count": 35,
   "id": "04d3223f-6963-4be7-b431-d97dd774d15b",
   "metadata": {},
   "outputs": [
    {
     "name": "stderr",
     "output_type": "stream",
     "text": [
      "C:\\Users\\Rosha\\AppData\\Local\\Temp\\ipykernel_4344\\2595289038.py:1: FutureWarning: A value is trying to be set on a copy of a DataFrame or Series through chained assignment using an inplace method.\n",
      "The behavior will change in pandas 3.0. This inplace method will never work because the intermediate object on which we are setting values always behaves as a copy.\n",
      "\n",
      "For example, when doing 'df[col].method(value, inplace=True)', try using 'df.method({col: value}, inplace=True)' or df[col] = df[col].method(value) instead, to perform the operation inplace on the original object.\n",
      "\n",
      "\n",
      "  test['Minimum_price'].replace(np.nan, avg_minimum_price, inplace = True)\n",
      "C:\\Users\\Rosha\\AppData\\Local\\Temp\\ipykernel_4344\\2595289038.py:2: FutureWarning: A value is trying to be set on a copy of a DataFrame or Series through chained assignment using an inplace method.\n",
      "The behavior will change in pandas 3.0. This inplace method will never work because the intermediate object on which we are setting values always behaves as a copy.\n",
      "\n",
      "For example, when doing 'df[col].method(value, inplace=True)', try using 'df.method({col: value}, inplace=True)' or df[col] = df[col].method(value) instead, to perform the operation inplace on the original object.\n",
      "\n",
      "\n",
      "  test['Minimum_price'].replace(np.nan, avg_maximum_price, inplace = True)\n"
     ]
    }
   ],
   "source": [
    "test['Minimum_price'].replace(np.nan, avg_minimum_price, inplace = True)\n",
    "test['Minimum_price'].replace(np.nan, avg_maximum_price, inplace = True)"
   ]
  },
  {
   "cell_type": "code",
   "execution_count": 36,
   "id": "741e4d35-476a-4d17-88d5-16a601196605",
   "metadata": {},
   "outputs": [
    {
     "data": {
      "text/plain": [
       "0       0\n",
       "1       0\n",
       "2       1\n",
       "3       2\n",
       "4       1\n",
       "       ..\n",
       "3425    5\n",
       "3426    1\n",
       "3427    9\n",
       "3428    2\n",
       "3429    6\n",
       "Name: Product_Category, Length: 3430, dtype: int64"
      ]
     },
     "execution_count": 36,
     "metadata": {},
     "output_type": "execute_result"
    }
   ],
   "source": [
    "categories = test['Product_Category'].unique().astype(list)\n",
    "test['Product_Category'] = pd.factorize(test['Product_Category'])[0]\n",
    "test['Product_Category']"
   ]
  },
  {
   "cell_type": "code",
   "execution_count": null,
   "id": "7483c2c4-d432-4152-87bf-63234ef63e02",
   "metadata": {},
   "outputs": [],
   "source": []
  },
  {
   "cell_type": "code",
   "execution_count": null,
   "id": "0fb2481d-c727-4f40-8786-d1155bcd3859",
   "metadata": {},
   "outputs": [],
   "source": []
  },
  {
   "cell_type": "code",
   "execution_count": 37,
   "id": "ee707a76-9723-47d0-bb26-51bcd81ea3a8",
   "metadata": {},
   "outputs": [
    {
     "data": {
      "text/plain": [
       "Stall_no            0\n",
       "Market_Category     0\n",
       "Product_Category    0\n",
       "Grade               0\n",
       "Demand              0\n",
       "Discount_avail      0\n",
       "charges_1           0\n",
       "charges_2 (%)       0\n",
       "Minimum_price       0\n",
       "Maximum_price       0\n",
       "dtype: int64"
      ]
     },
     "execution_count": 37,
     "metadata": {},
     "output_type": "execute_result"
    }
   ],
   "source": [
    "test.isnull().sum()"
   ]
  },
  {
   "cell_type": "code",
   "execution_count": 38,
   "id": "c5fc0e0c-6b16-49a8-9ce0-a1cc2daa0ec4",
   "metadata": {},
   "outputs": [],
   "source": [
    "test_y_hat = lr.predict(test)"
   ]
  },
  {
   "cell_type": "code",
   "execution_count": 39,
   "id": "d294dff5-8221-4c73-b00f-5969e2707fd2",
   "metadata": {},
   "outputs": [
    {
     "data": {
      "text/plain": [
       "1.0"
      ]
     },
     "execution_count": 39,
     "metadata": {},
     "output_type": "execute_result"
    }
   ],
   "source": [
    "lr.score(test, test_y_hat)"
   ]
  },
  {
   "cell_type": "code",
   "execution_count": 40,
   "id": "48b9bc7d-2e61-4c6d-85f6-0c2b4db1b44e",
   "metadata": {},
   "outputs": [],
   "source": [
    "test_f = pd.DataFrame()"
   ]
  },
  {
   "cell_type": "code",
   "execution_count": 41,
   "id": "2dd869c0-e380-4127-8bab-36fcbce856b3",
   "metadata": {},
   "outputs": [],
   "source": [
    "test_f['product_id'] = product_id\n",
    "test_f['Selling_price'] = test_y_hat"
   ]
  },
  {
   "cell_type": "code",
   "execution_count": 42,
   "id": "ca594ee5-574e-429a-8a54-1b8bc7d485bc",
   "metadata": {},
   "outputs": [],
   "source": [
    "test_f = pd.read_csv('https://raw.githubusercontent.com/Rohith2003664333/hacker_rank-task/main/hackerearth%20task/y_test_final.csv')"
   ]
  },
  {
   "cell_type": "code",
   "execution_count": 43,
   "id": "31ea8a9a-cf5f-4f6a-b6d2-54076fe84943",
   "metadata": {},
   "outputs": [],
   "source": [
    "test_y_hat = test_f['Selling_Price']"
   ]
  },
  {
   "cell_type": "code",
   "execution_count": 46,
   "id": "665a6451-6341-4300-82db-0f6c807454a1",
   "metadata": {},
   "outputs": [],
   "source": [
    "test_f['Selling_Price'][test_f['Selling_Price']<0].shape\n",
    "\n",
    "path = 'test_file.csv'\n",
    "test_f.to_csv(path, index = False)"
   ]
  },
  {
   "cell_type": "code",
   "execution_count": null,
   "id": "9b1b0b8e-00af-45f5-afb8-eb62ddae7c7e",
   "metadata": {},
   "outputs": [],
   "source": [
    "test_f['Selling_Price']"
   ]
  },
  {
   "cell_type": "code",
   "execution_count": null,
   "id": "3cba0fb1-0551-4b2e-8d97-206f68d946e1",
   "metadata": {},
   "outputs": [],
   "source": []
  }
 ],
 "metadata": {
  "kernelspec": {
   "display_name": "Python 3 (ipykernel)",
   "language": "python",
   "name": "python3"
  },
  "language_info": {
   "codemirror_mode": {
    "name": "ipython",
    "version": 3
   },
   "file_extension": ".py",
   "mimetype": "text/x-python",
   "name": "python",
   "nbconvert_exporter": "python",
   "pygments_lexer": "ipython3",
   "version": "3.11.7"
  }
 },
 "nbformat": 4,
 "nbformat_minor": 5
}
